{
 "cells": [
  {
   "cell_type": "code",
   "execution_count": 1,
   "metadata": {},
   "outputs": [],
   "source": [
    "import json\n",
    "import os"
   ]
  },
  {
   "cell_type": "code",
   "execution_count": 2,
   "metadata": {},
   "outputs": [],
   "source": [
    "def netoyer_donnees(l):\n",
    "    \"\"\"\n",
    "    Transformer une liste de chaines de caractères\n",
    "    en un dictionnaires.\n",
    "    \"\"\"\n",
    "    d = {}\n",
    "    d[\"id\"] = l[0]\n",
    "    d[\"Nombre\"] = l[1]\n",
    "    d[\"Género\"] = (l[2])\n",
    "    d[\"Fecha\"] = (l[3])\n",
    "    d[\"Municipio\"] = (l[4])\n",
    "    d[\"Departamento\"] = (l[5])\n",
    "    d[\"Tipo de líder\"] = (l[6])\n",
    "\n",
    "    \n",
    "    return d"
   ]
  },
  {
   "cell_type": "code",
   "execution_count": 3,
   "metadata": {},
   "outputs": [],
   "source": [
    "def leadersmorts_dpt(source):\n",
    "    \"\"\"\n",
    "    Compte le nombre de homicides par departement et renvoie\n",
    "    une liste de dictionnaires.\n",
    "    \"\"\"\n",
    "\n",
    "    with open(source,encoding=\"utf-8\",mode=\"r\") as file:\n",
    "     nbmpd= {}\n",
    "     line = file.readline() # Lit la ligne d'entete\n",
    "     for line in file:\n",
    "      line = line.strip()\n",
    "      if len(line) > 0:\n",
    "        l = line.split(\";\")\n",
    "        leader = netoyer_donnees(l)\n",
    "\n",
    "        # tri departements\n",
    "        if leader[\"Departamento\"]  in nbmpd:\n",
    "            nbmpd[leader[\"Departamento\"]] = nbmpd[leader[\"Departamento\"]]+1\n",
    "        else:\n",
    "            nbmpd[leader[\"Departamento\"]] = 1\n",
    "\n",
    "    return nbmpd"
   ]
  },
  {
   "cell_type": "code",
   "execution_count": 4,
   "metadata": {},
   "outputs": [],
   "source": [
    "def addproperties_json(source, mortspd):\n",
    "    \"\"\"\n",
    "    Adition de nombre de leaders morts par departement au geojson\n",
    "    \"\"\"\n",
    "    with open(source, encoding=\"utf-8\",mode=\"r\") as f: # load boundaries\n",
    "     boundaries = json.load(f)\n",
    "     \n",
    "\n",
    "    for regionBoundary in boundaries['features']: # get nb murdered by region\n",
    "        del regionBoundary['properties']['admin1Pcod']\n",
    "        del regionBoundary['properties']['admin1RefN']\n",
    "        \n",
    "        regionBoundary['properties']['Departement'] = regionBoundary['properties']['admin1Name']\n",
    "        \n",
    "        currentRegion = regionBoundary['properties']['Departement']\n",
    "        if currentRegion in mortspd:\n",
    "            regionBoundary['properties']['Morts'] = mortspd[currentRegion]\n",
    "            \n",
    "        else: \n",
    "            regionBoundary['properties']['Morts'] = 0                \n",
    "            continue\n",
    "    return  boundaries"
   ]
  },
  {
   "cell_type": "code",
   "execution_count": 7,
   "metadata": {},
   "outputs": [
    {
     "name": "stdout",
     "output_type": "stream",
     "text": [
      "********************************\n",
      "* Geocoding *\n",
      "********************************\n",
      "\n",
      "\n",
      " - import des données...\n",
      "   ... 32 départements recensés avec 1 ou plus meurtres\n"
     ]
    }
   ],
   "source": [
    "def main():\n",
    "    print(\"********************************\")\n",
    "    print(\"* Geocoding *\")\n",
    "    print(\"********************************\")\n",
    "    print(\"\\n\")\n",
    "\n",
    "    print(\" - import des données...\")\n",
    "    source = \"../data/lideres_asesinados.csv\"    \n",
    "    leaders = leadersmorts_dpt(source)\n",
    "    print(\"   ... {} départements recensés avec 1 ou plus meurtres\".format(len(leaders)))\n",
    "    \n",
    "    boundariesFilePath = \"../data/boundaries_colombia.geojson\" \n",
    "    boundariesWithCount = addproperties_json(boundariesFilePath, leaders)\n",
    "\n",
    "    if not os.path.exists(\"output\"):\n",
    "        os.makedirs(\"output\")\n",
    "    boundariesWithCountFile = open(\"../output/result.geojson\",mode= \"w\", encoding=\"utf-8\")\n",
    "    boundariesWithCountFile.write(json.dumps(boundariesWithCount))\n",
    "    boundariesWithCountFile.close()\n",
    "\n",
    "\n",
    "if __name__ == \"__main__\":\n",
    "    main()\n",
    "    "
   ]
  },
  {
   "cell_type": "code",
   "execution_count": null,
   "metadata": {},
   "outputs": [],
   "source": []
  }
 ],
 "metadata": {
  "kernelspec": {
   "display_name": "Python 3",
   "language": "python",
   "name": "python3"
  },
  "language_info": {
   "codemirror_mode": {
    "name": "ipython",
    "version": 3
   },
   "file_extension": ".py",
   "mimetype": "text/x-python",
   "name": "python",
   "nbconvert_exporter": "python",
   "pygments_lexer": "ipython3",
   "version": "3.7.3"
  }
 },
 "nbformat": 4,
 "nbformat_minor": 2
}
